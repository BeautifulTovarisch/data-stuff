{
  "cells": [
    {
      "cell_type": "markdown",
      "metadata": {
        "id": "view-in-github",
        "colab_type": "text"
      },
      "source": [
        "<a href=\"https://colab.research.google.com/github/BeautifulTovarisch/data-stuff/blob/main/example_julia.ipynb\" target=\"_parent\"><img src=\"https://colab.research.google.com/assets/colab-badge.svg\" alt=\"Open In Colab\"/></a>"
      ]
    },
    {
      "cell_type": "code",
      "source": [
        "import Pkg\n",
        "\n",
        "Pkg.add(\"HTTP\")\n",
        "Pkg.add(\"JSON\")\n",
        "\n",
        "using HTTP, JSON\n",
        "\n",
        "data = HTTP.request(\"GET\",\n",
        "  \"https://ocw.mit.edu/ans7870/6/6.006/s08/lecturenotes/files/t8.shakespeare.txt\"\n",
        ")\n",
        "\n",
        "shakespeare = String(data.body)\n",
        "spWords = split(shakespeare)\n",
        "\n",
        "jsonWords = HTTP.request(\"GET\",\n",
        "  \"https://raw.githubusercontent.com/\",\n",
        "  \"h-Klok/StatsWithJuliaBook/master/data/jsonCode.json\")\n",
        "\n",
        "parsed = JSON.parse(String(jsonWords.body))\n",
        "\n",
        "keywords = Array{String}(parsed[\"words\"])\n",
        "numToShow = parsed[\"numToShow\"]\n",
        "\n",
        "wordCount = Dict([(x, count(w -> lowercase(w) == lowercase(x), spWords))\n",
        "  for x in keywords])\n",
        "\n",
        "sorted = sort(collect(wordCount), by=last,rev=true)\n",
        "\n",
        "display(sorted[1:numToShow])"
      ],
      "metadata": {
        "id": "v39NdbzPDzc6",
        "outputId": "8f966e92-667f-4a96-b818-245ba838bc83",
        "colab": {
          "base_uri": "https://localhost:8080/",
          "height": 287
        }
      },
      "execution_count": 1,
      "outputs": [
        {
          "output_type": "stream",
          "name": "stderr",
          "text": [
            "\u001b[32m\u001b[1m   Resolving\u001b[22m\u001b[39m package versions...\n",
            "\u001b[32m\u001b[1m  No Changes\u001b[22m\u001b[39m to `~/.julia/environments/v1.10/Project.toml`\n",
            "\u001b[32m\u001b[1m  No Changes\u001b[22m\u001b[39m to `~/.julia/environments/v1.10/Manifest.toml`\n",
            "\u001b[32m\u001b[1mPrecompiling\u001b[22m\u001b[39m packages...\n",
            " 351922.0 ms\u001b[32m  ✓ \u001b[39mReactant → ReactantCUDAExt\n",
            "  1 dependency successfully precompiled in 356 seconds. 458 already precompiled.\n",
            "\u001b[32m\u001b[1m   Resolving\u001b[22m\u001b[39m package versions...\n",
            "\u001b[32m\u001b[1m  No Changes\u001b[22m\u001b[39m to `~/.julia/environments/v1.10/Project.toml`\n",
            "\u001b[32m\u001b[1m  No Changes\u001b[22m\u001b[39m to `~/.julia/environments/v1.10/Manifest.toml`\n"
          ]
        },
        {
          "output_type": "display_data",
          "data": {
            "text/plain": [
              "5-element Vector{Pair{String, Int64}}:\n",
              " \"king\" => 1698\n",
              " \"love\" => 1279\n",
              "  \"man\" => 1033\n",
              "  \"sir\" => 721\n",
              "  \"god\" => 555"
            ]
          },
          "metadata": {}
        }
      ]
    }
  ],
  "metadata": {
    "colab": {
      "name": "Welcome To Colab",
      "provenance": [],
      "include_colab_link": true
    },
    "kernelspec": {
      "display_name": "Julia",
      "name": "julia"
    },
    "language_info": {
      "name": "julia"
    }
  },
  "nbformat": 4,
  "nbformat_minor": 0
}